{
 "cells": [
  {
   "cell_type": "code",
   "execution_count": 1,
   "metadata": {
    "collapsed": false
   },
   "outputs": [
    {
     "name": "stdout",
     "output_type": "stream",
     "text": [
      "['core_other_2009.txt', 'core_other_2002.txt', 'core_other_2008.txt', 'core_other_2011.txt', 'core_other_2004.txt', 'core_other_2007.txt', 'core_other_1999.txt', 'core_other_2013.txt', 'core_other_2012.txt', 'core_other_1995.txt', 'core_other_2003.txt', 'core_other_1998.txt', 'core_other_2001.txt', 'core_other_2000.txt', 'core_other_2010.txt', 'core_other_2006.txt', 'core_other_1996.txt', 'core_other_2005.txt', 'core_other_1997.txt']\n"
     ]
    }
   ],
   "source": [
    "import sys\n",
    "import os   \n",
    "import traceback\n",
    "import pandas as pd\n",
    "import time\n",
    "import warnings\n",
    "#warnings.simplefilter(\"ignore\", Warning)\n",
    "\n",
    "data_path = '../data/core_other'\n",
    "data = {}\n",
    "data_all = pd.DataFrame()\n",
    "years = []\n",
    "\n",
    "#final columns\n",
    "columns = ['EIN', 'SUBSECCD', 'FisYr', 'NAME', 'CITY', 'STATE', 'ZIP_CODE', 'TOTAL_ASSETS', 'REVENUE', 'NET_INCOME']\n",
    "\n",
    "data_files = os.listdir(data_path)\n",
    "file_dict = dict(zip(data_files, range(len(data_files))))\n",
    "print (data_files)"
   ]
  },
  {
   "cell_type": "code",
   "execution_count": 2,
   "metadata": {
    "collapsed": false
   },
   "outputs": [
    {
     "name": "stderr",
     "output_type": "stream",
     "text": [
      "/usr/local/lib/python3.4/dist-packages/IPython/kernel/__main__.py:19: FutureWarning: convert_objects is deprecated.  Use the data-type specific converters pd.to_datetime, pd.to_timedelta and pd.to_numeric.\n",
      "/usr/local/lib/python3.4/dist-packages/IPython/kernel/__main__.py:23: FutureWarning: convert_objects is deprecated.  Use the data-type specific converters pd.to_datetime, pd.to_timedelta and pd.to_numeric.\n",
      "/usr/local/lib/python3.4/dist-packages/IPython/kernel/__main__.py:34: FutureWarning: convert_objects is deprecated.  Use the data-type specific converters pd.to_datetime, pd.to_timedelta and pd.to_numeric.\n",
      "/usr/local/lib/python3.4/dist-packages/IPython/kernel/__main__.py:51: FutureWarning: convert_objects is deprecated.  Use the data-type specific converters pd.to_datetime, pd.to_timedelta and pd.to_numeric.\n",
      "/usr/local/lib/python3.4/dist-packages/IPython/kernel/__main__.py:62: FutureWarning: convert_objects is deprecated.  Use the data-type specific converters pd.to_datetime, pd.to_timedelta and pd.to_numeric.\n",
      "/usr/local/lib/python3.4/dist-packages/IPython/kernel/__main__.py:26: FutureWarning: convert_objects is deprecated.  Use the data-type specific converters pd.to_datetime, pd.to_timedelta and pd.to_numeric.\n",
      "/usr/local/lib/python3.4/dist-packages/IPython/kernel/__main__.py:37: FutureWarning: convert_objects is deprecated.  Use the data-type specific converters pd.to_datetime, pd.to_timedelta and pd.to_numeric.\n",
      "/usr/local/lib/python3.4/dist-packages/IPython/kernel/__main__.py:48: FutureWarning: convert_objects is deprecated.  Use the data-type specific converters pd.to_datetime, pd.to_timedelta and pd.to_numeric.\n",
      "/usr/local/lib/python3.4/dist-packages/IPython/kernel/__main__.py:59: FutureWarning: convert_objects is deprecated.  Use the data-type specific converters pd.to_datetime, pd.to_timedelta and pd.to_numeric.\n",
      "/usr/local/lib/python3.4/dist-packages/IPython/kernel/__main__.py:40: FutureWarning: convert_objects is deprecated.  Use the data-type specific converters pd.to_datetime, pd.to_timedelta and pd.to_numeric.\n"
     ]
    }
   ],
   "source": [
    "for file_name, idx in file_dict.items():\n",
    "    data_file =  data_path + '/' + file_name\n",
    "    \n",
    "    if '~' in file_name:\n",
    "        continue\n",
    "\n",
    "    try:\n",
    "        file_name_no_exnt = file_name.split('.')[0]\n",
    "        year = file_name_no_exnt.split('_')[2]\n",
    "        year = int(year)\n",
    "    except:\n",
    "        year = 'NA' \n",
    "    \n",
    "\n",
    "    try:\n",
    "        data[year] = pd.read_csv(data_file, sep=',', low_memory=False, quotechar='\"')\n",
    "\n",
    "        #convert column data into numeric type for sorting and processing\n",
    "        data[year]['SUBSECCD'] = data[year]['SUBSECCD'].convert_objects(convert_numeric = True)\n",
    "\n",
    "        #adding a common column for assets because of different columns in different year files\n",
    "        if 'ASS_EOY' in data[year]:\n",
    "            data[year]['TOTAL_ASSETS'] = data[year]['ASS_EOY'].convert_objects(convert_numeric = True)\n",
    "\n",
    "        elif 'p4e_asst' in data[year]:\n",
    "            data[year]['TOTAL_ASSETS'] = data[year]['p4e_asst'].convert_objects(convert_numeric = True)\n",
    "\n",
    "        else:\n",
    "            #print \"TOTAL_ASSETS not found for file : \" + str(file_name)\n",
    "            data[year]['TOTAL_ASSETS'] = 0\n",
    "\n",
    "        #adding a common column for revenue because of different columns in different year files\n",
    "        if 'TOTREV2' in data[year]:\n",
    "            data[year]['REVENUE'] = data[year]['TOTREV2'].convert_objects(convert_numeric = True)\n",
    "\n",
    "        elif 'p1totrev' in data[year]:\n",
    "            data[year]['REVENUE'] = data[year]['p1totrev'].convert_objects(convert_numeric = True)\n",
    "\n",
    "        elif 'p1psrev' in data[year]:\n",
    "            data[year]['REVENUE'] = data[year]['p1psrev'].convert_objects(convert_numeric = True)\n",
    "\n",
    "        else:\n",
    "            #print \"REVENUE not found for file : \" + str(file_name)\n",
    "            data[year]['REVENUE'] = 0\n",
    "\n",
    "        #adding a common column for revenue because of different columns in different year files\n",
    "        if 'grossinc' in data[year]:\n",
    "            data[year]['NET_INCOME'] = data[year]['grossinc'].convert_objects(convert_numeric = True)\n",
    "\n",
    "        elif 'NETINC' in data[year]:\n",
    "            data[year]['NET_INCOME'] = data[year]['NETINC'].convert_objects(convert_numeric = True)\n",
    "\n",
    "        else:\n",
    "            #print \"NET_INCOME not found for file : \" + str(file_name)\n",
    "            data[year]['NET_INCOME'] = 0  \n",
    "\n",
    "        #adding a common column for 5 digit zip code because of different columns in different year files for zip\n",
    "        if 'ZIP5' in data[year]:\n",
    "            data[year]['ZIP_CODE'] = data[year]['ZIP5'].convert_objects(convert_numeric = True)\n",
    "\n",
    "        elif 'zip5' in data[year]:\n",
    "            data[year]['ZIP_CODE'] = data[year]['zip5'].convert_objects(convert_numeric = True)\n",
    "\n",
    "        else:\n",
    "            data[year]['ZIP_CODE'] = ''\n",
    "\n",
    "        data_all = data_all.append(data[year][columns], ignore_index=True)\n",
    "        #print (\"loaded file : \" + str(file_name))\n",
    "        \n",
    "    except:\n",
    "        traceback.print_exc(file=sys.stdout)\n",
    "        print (\"error : reading files\")\n",
    "        exit()\n"
   ]
  },
  {
   "cell_type": "code",
   "execution_count": 3,
   "metadata": {
    "collapsed": false
   },
   "outputs": [],
   "source": [
    "#table 1 to get data of orgs for all years whose SUBSECCD_val = [1,12,14,15,16,50,60,80]\n",
    "SUBSECCD_val = [1,12,14,15,16,50,60,80]\n",
    "data_year_wise = data\n",
    "data_subseccd = data_all.loc[data_all['SUBSECCD'].isin(SUBSECCD_val)]"
   ]
  },
  {
   "cell_type": "code",
   "execution_count": 4,
   "metadata": {
    "collapsed": false
   },
   "outputs": [
    {
     "name": "stdout",
     "output_type": "stream",
     "text": [
      "table : SUBCECCD = [1,12,14,15,16,50,60,80]\n",
      "-------------------------------------------\n",
      " SUBSECCD  TOTAL_ENTRIES      TOTAL_ASSETS         REVENUE  REVENUE_AVERAGE  REVENUE_MEDIAN      NET_INCOME  NET_INCOME_AVERAGE  NET_INCOME_MEDIAN\n",
      "        1            408     6,269,820,888     460,173,426        1,127,876         115,676      70,646,206             173,152              6,505\n",
      "       12         70,598 1,649,006,084,623 731,619,862,747       10,363,181         287,190 129,770,118,467           1,838,155             33,639\n",
      "       14         36,871 6,109,930,325,496 368,496,086,472        9,994,469         939,499  85,789,914,721           2,326,821             95,994\n",
      "       15         15,600    73,454,815,562  11,683,620,935          748,950         178,236   7,368,482,502             472,338             46,547\n",
      "       16            256     8,148,502,176     531,957,169        2,077,957       1,413,024     206,808,741             807,846            211,756\n",
      "       50            234    11,151,829,135  11,180,444,010       47,779,675       2,996,276   3,443,624,482          14,716,343            337,262\n",
      "       60              0                 0               0                0             nan               0                   0                nan\n",
      "       80             36        22,809,561       2,670,368           74,176          39,028       1,311,115              36,419              1,100\n",
      "table saved at : ../results/core_other_table_1_years_[all]_23:37:16.csv\n"
     ]
    }
   ],
   "source": [
    "table_1_columns = ['SUBSECCD', 'TOTAL_ENTRIES', 'TOTAL_ASSETS', 'REVENUE', 'REVENUE_AVERAGE', 'REVENUE_MEDIAN', 'NET_INCOME', 'NET_INCOME_AVERAGE', 'NET_INCOME_MEDIAN' ]\n",
    "data_table_1 = pd.DataFrame(columns=table_1_columns)\n",
    "for val in SUBSECCD_val:\n",
    "    data_temp = data_subseccd.loc[data_subseccd['SUBSECCD'] == val]\n",
    "    total_entries = len(data_temp)\n",
    "    #Total Assets\n",
    "    total_asst = data_temp['TOTAL_ASSETS'].sum()\n",
    "    #Revenue\n",
    "    total_rev = data_temp['REVENUE'].sum()\n",
    "    try:\n",
    "        total_rev_mean = int(data_temp['REVENUE'].mean())\n",
    "    except:\n",
    "        total_rev_mean = 0\n",
    "    total_rev_median = data_temp['REVENUE'].median()\n",
    "    #Net Income\n",
    "    total_inc = data_temp['NET_INCOME'].sum()\n",
    "    try:\n",
    "        total_inc_mean = int(data_temp['NET_INCOME'].mean())\n",
    "    except:\n",
    "        total_inc_mean = 0\n",
    "    total_inc_median = data_temp['NET_INCOME'].median()        \n",
    "\n",
    "    data_table_1.loc[SUBSECCD_val.index(val)] = [val, total_entries, total_asst, total_rev, total_rev_mean, total_rev_median, total_inc, total_inc_mean, total_inc_median]\n",
    "\n",
    "print (\"table : SUBCECCD = [1,12,14,15,16,50,60,80]\")\n",
    "print (\"-------------------------------------------\")\n",
    "file_name = '../results/core_other_table_1_years_[all]_' + str(time.strftime(\"%H:%M:%S\") + \".csv\")\n",
    "data_table_1.to_csv(file_name, float_format='%.f', mode = 'w', index=False)\n",
    "print (data_table_1.to_string(float_format = '{:,.0f}'.format, index=False))\n",
    "print (\"table saved at : \" + file_name)"
   ]
  },
  {
   "cell_type": "code",
   "execution_count": 5,
   "metadata": {
    "collapsed": false
   },
   "outputs": [],
   "source": [
    "#table 2 for spicific year or years\n",
    "years = [2013]\n",
    "data_year = pd.DataFrame()\n",
    "for yr in years:\n",
    "    data_year = data_year.append(data_year_wise[yr], ignore_index=True)\n",
    "\n",
    "data_year = data_year.loc[data_year['SUBSECCD'].isin(SUBSECCD_val)]"
   ]
  },
  {
   "cell_type": "code",
   "execution_count": 6,
   "metadata": {
    "collapsed": false
   },
   "outputs": [
    {
     "name": "stdout",
     "output_type": "stream",
     "text": [
      "table : SUBCECCD = [1,12,14,15,16,50,60,80] Years = [2013]\n",
      "-------------------------------------------------------------------\n",
      " SUBSECCD    YEAR  TOTAL_ENTRIES    TOTAL_ASSETS        REVENUE  REVENUE_AVERAGE  REVENUE_MEDIAN    NET_INCOME  NET_INCOME_AVERAGE  NET_INCOME_MEDIAN\n",
      "        1  [2013]             24     535,504,941     27,560,500        1,148,354         839,547     2,200,358              91,681             10,729\n",
      "       12  [2013]          3,797 142,671,251,135 62,140,775,935       16,365,756         383,535 1,607,455,241             423,348              7,084\n",
      "       14  [2013]          2,217 418,717,505,200 19,421,268,634        8,760,157       1,502,512 3,211,473,731           1,448,567             78,416\n",
      "       15  [2013]            260     347,237,536     71,831,497          276,274         270,006     8,513,170              32,742             17,538\n",
      "       16  [2013]              9     496,577,163     22,421,036        2,491,226       2,004,236     8,051,936             894,659            400,088\n",
      "       50  [2013]              0               0              0                0             nan             0                   0                nan\n",
      "       60  [2013]              0               0              0                0             nan             0                   0                nan\n",
      "       80  [2013]              0               0              0                0             nan             0                   0                nan\n",
      "table saved at : ../results/core_other_table_1_years_[2013]_23:37:16.csv\n"
     ]
    }
   ],
   "source": [
    "table_2_columns = ['SUBSECCD', 'YEAR', 'TOTAL_ENTRIES', 'TOTAL_ASSETS', 'REVENUE', 'REVENUE_AVERAGE', 'REVENUE_MEDIAN', 'NET_INCOME', 'NET_INCOME_AVERAGE', 'NET_INCOME_MEDIAN' ]\n",
    "data_table_2 = pd.DataFrame(columns=table_2_columns)\n",
    "for val in SUBSECCD_val:\n",
    "    data_temp = data_year.loc[data_year['SUBSECCD'] == val]\n",
    "    total_entries = len(data_temp)\n",
    "    #Total Assets\n",
    "    total_asst = data_temp['TOTAL_ASSETS'].sum()\n",
    "    #Revenue\n",
    "    total_rev = data_temp['REVENUE'].sum()\n",
    "    try:\n",
    "        total_rev_mean = int(data_temp['REVENUE'].mean())\n",
    "    except:\n",
    "        total_rev_mean = 0\n",
    "    total_rev_median = data_temp['REVENUE'].median()\n",
    "    #Net Income\n",
    "    total_inc = data_temp['NET_INCOME'].sum()\n",
    "    try:\n",
    "        total_inc_mean = int(data_temp['NET_INCOME'].mean())\n",
    "    except:\n",
    "        total_inc_mean = 0\n",
    "    total_inc_median = data_temp['NET_INCOME'].median()        \n",
    "\n",
    "    data_table_2.loc[SUBSECCD_val.index(val)] = [val, years, total_entries, total_asst, total_rev, total_rev_mean, total_rev_median, total_inc, total_inc_mean, total_inc_median]\n",
    "\n",
    "print (\"table : SUBCECCD = [1,12,14,15,16,50,60,80] Years = \" + str(years))\n",
    "print (\"-------------------------------------------------------------------\")\n",
    "file_name = '../results/core_other_table_1_years_' + str(years) + \"_\" + str(time.strftime(\"%H:%M:%S\") + \".csv\")\n",
    "data_table_2.to_csv(file_name, float_format='%.f', mode = 'w', index=False)\n",
    "print (data_table_2.to_string(float_format = '{:,.0f}'.format, index=False))\n",
    "print (\"table saved at : \" + file_name)"
   ]
  },
  {
   "cell_type": "code",
   "execution_count": 7,
   "metadata": {
    "collapsed": false
   },
   "outputs": [],
   "source": [
    "#table 3 for specific state or states\n",
    "states = ['CA']\n",
    "data_state = data_all.loc[data_all['STATE'].isin(states)]\n",
    "data_state = data_state.loc[data_state['SUBSECCD'].isin(SUBSECCD_val)]"
   ]
  },
  {
   "cell_type": "code",
   "execution_count": 8,
   "metadata": {
    "collapsed": false
   },
   "outputs": [
    {
     "name": "stdout",
     "output_type": "stream",
     "text": [
      "table : SUBCECCD = [1,12,14,15,16,50,60,80] States = ['CA']\n",
      "---------------------------------------------------------------------\n",
      " SUBSECCD STATE  TOTAL_ENTRIES            ASSETS        REVENUE  REVENUE_AVERAGE  REVENUE_MEDIAN     NET_INCOME  NET_INCOME_AVERAGE  NET_INCOME_MEDIAN\n",
      "        1  [CA]             16         5,027,206      4,901,987          306,374          65,001      3,275,659             204,728              9,900\n",
      "       12  [CA]          7,718    10,915,887,818  3,303,164,319          427,981          78,268    688,165,706              89,163              5,856\n",
      "       14  [CA]          1,069 1,105,590,098,428 67,578,120,602       63,216,202       5,472,911 11,503,765,843          10,761,240             24,305\n",
      "       15  [CA]          1,146     9,553,653,360  1,979,478,136        1,727,293         175,814  1,378,992,742           1,203,309             56,016\n",
      "       16  [CA]             18       647,689,160     31,153,851        1,730,769       1,765,781     10,770,947             598,385            437,793\n",
      "       50  [CA]              4         6,352,141     15,887,681        3,971,920       3,883,670     15,223,251           3,805,812          3,916,680\n",
      "       60  [CA]              0                 0              0                0             nan              0                   0                nan\n",
      "       80  [CA]              0                 0              0                0             nan              0                   0                nan\n",
      "table saved at : ../results/core_other_table_1_states_['CA']_23:37:17.csv\n"
     ]
    }
   ],
   "source": [
    "table_3_columns = ['SUBSECCD', 'STATE', 'TOTAL_ENTRIES', 'ASSETS', 'REVENUE', 'REVENUE_AVERAGE', 'REVENUE_MEDIAN', 'NET_INCOME', 'NET_INCOME_AVERAGE', 'NET_INCOME_MEDIAN' ]\n",
    "data_table_3 = pd.DataFrame(columns=table_3_columns)\n",
    "for val in SUBSECCD_val:\n",
    "    data_temp = data_state.loc[data_state['SUBSECCD'] == val]\n",
    "    total_entries = len(data_temp)\n",
    "    #Total Assets\n",
    "    total_asst = data_temp['TOTAL_ASSETS'].sum()\n",
    "    #Revenue\n",
    "    total_rev = data_temp['REVENUE'].sum()\n",
    "    try:\n",
    "        total_rev_mean = int(data_temp['REVENUE'].mean())\n",
    "    except:\n",
    "        total_rev_mean = 0\n",
    "    total_rev_median = data_temp['REVENUE'].median()\n",
    "    #Net Income\n",
    "    total_inc = data_temp['NET_INCOME'].sum()\n",
    "    try:\n",
    "        total_inc_mean = int(data_temp['NET_INCOME'].mean())\n",
    "    except:\n",
    "        total_inc_mean = 0\n",
    "    total_inc_median = data_temp['NET_INCOME'].median()        \n",
    "\n",
    "    data_table_3.loc[SUBSECCD_val.index(val)] = [val, states, total_entries, total_asst, total_rev, total_rev_mean, total_rev_median, total_inc, total_inc_mean, total_inc_median]\n",
    "\n",
    "print (\"table : SUBCECCD = [1,12,14,15,16,50,60,80] States = \" + str(states))\n",
    "print (\"---------------------------------------------------------------------\")\n",
    "file_name = '../results/core_other_table_1_states_' + str(states) + \"_\" + str(time.strftime(\"%H:%M:%S\") + \".csv\")\n",
    "data_table_3.to_csv(file_name, float_format='%.f', mode = 'w', index=False)\n",
    "print (data_table_3.to_string(float_format = '{:,.0f}'.format, index=False))\n",
    "print (\"table saved at : \" + file_name)"
   ]
  },
  {
   "cell_type": "code",
   "execution_count": 9,
   "metadata": {
    "collapsed": true
   },
   "outputs": [
    {
     "ename": "SyntaxError",
     "evalue": "invalid syntax (<ipython-input-9-6e792fb42f70>, line 10)",
     "output_type": "error",
     "traceback": [
      "\u001b[1;36m  File \u001b[1;32m\"<ipython-input-9-6e792fb42f70>\"\u001b[1;36m, line \u001b[1;32m10\u001b[0m\n\u001b[1;33m    print list(subseccd[val]['EIN'].values)\u001b[0m\n\u001b[1;37m             ^\u001b[0m\n\u001b[1;31mSyntaxError\u001b[0m\u001b[1;31m:\u001b[0m invalid syntax\n"
     ]
    }
   ],
   "source": [
    "#map plotting\n",
    "SUBSECCD_val = [1,12,14,15,16,50,60,80]\n",
    "\n",
    "subseccd = {}\n",
    "for val in SUBSECCD_val:\n",
    "    subseccd[val] = data_all.loc[data_all['SUBSECCD'].isin([val])]\n",
    "\n",
    "\n",
    "for val in SUBSECCD_val:\n",
    "    print list(subseccd[val]['EIN'].values)\n",
    "    print list(subseccd[val]['ZIP_CODE'].values)"
   ]
  },
  {
   "cell_type": "code",
   "execution_count": 10,
   "metadata": {
    "collapsed": true
   },
   "outputs": [],
   "source": []
  }
 ],
 "metadata": {
  "kernelspec": {
   "display_name": "Python 3",
   "language": "python",
   "name": "python3"
  },
  "language_info": {
   "codemirror_mode": {
    "name": "ipython",
    "version": 3
   },
   "file_extension": ".py",
   "mimetype": "text/x-python",
   "name": "python",
   "nbconvert_exporter": "python",
   "pygments_lexer": "ipython3",
   "version": "3.5.1+"
  }
 },
 "nbformat": 4,
 "nbformat_minor": 0
}
