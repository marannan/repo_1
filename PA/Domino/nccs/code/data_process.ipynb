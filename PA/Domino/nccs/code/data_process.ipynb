{
 "cells": [
  {
   "cell_type": "code",
   "execution_count": 1,
   "metadata": {
    "collapsed": false
   },
   "outputs": [
    {
     "name": "stdout",
     "output_type": "stream",
     "text": [
      "['core_other_1995.txt', 'core_other_1996.txt', 'core_other_1997.txt', 'core_other_1998.txt', 'core_other_1999.txt', 'core_other_2000.txt', 'core_other_2001.txt', 'core_other_2002.txt', 'core_other_2003.txt', 'core_other_2004.txt', 'core_other_2005.txt', 'core_other_2006.txt', 'core_other_2007.txt', 'core_other_2008.txt', 'core_other_2009.txt', 'core_other_2010.txt', 'core_other_2011.txt', 'core_other_2012.txt', 'core_other_2013.txt']\n"
     ]
    }
   ],
   "source": [
    "import sys\n",
    "import os   \n",
    "import traceback\n",
    "import pandas as pd\n",
    "import time\n",
    "\n",
    "data_path = '../data/core_other'\n",
    "data = {}\n",
    "data_all = pd.DataFrame()\n",
    "years = []\n",
    "\n",
    "#final columns\n",
    "columns = ['EIN', 'SUBSECCD', 'FisYr', 'NAME', 'CITY', 'STATE', 'ZIP_CODE', 'TOTAL_ASSETS', 'REVENUE', 'NET_INCOME']\n",
    "\n",
    "data_files = os.listdir(data_path)\n",
    "file_dict = dict(zip(data_files, range(len(data_files))))\n",
    "print (data_files)"
   ]
  },
  {
   "cell_type": "code",
   "execution_count": 2,
   "metadata": {
    "collapsed": false
   },
   "outputs": [
    {
     "name": "stdout",
     "output_type": "stream",
     "text": [
      "loaded file : core_other_2004.txt\n",
      "loaded file : core_other_2005.txt\n",
      "loaded file : core_other_2006.txt\n",
      "loaded file : core_other_2011.txt\n",
      "loaded file : core_other_1995.txt\n",
      "loaded file : core_other_2003.txt\n",
      "loaded file : core_other_2012.txt\n",
      "loaded file : core_other_1998.txt\n",
      "loaded file : core_other_1997.txt\n",
      "loaded file : core_other_1999.txt\n",
      "loaded file : core_other_2000.txt\n",
      "loaded file : core_other_2009.txt\n",
      "loaded file : core_other_2008.txt\n",
      "loaded file : core_other_2001.txt\n",
      "loaded file : core_other_2013.txt\n",
      "loaded file : core_other_1996.txt\n",
      "loaded file : core_other_2002.txt\n",
      "loaded file : core_other_2007.txt\n",
      "loaded file : core_other_2010.txt\n",
      "        EIN  SUBSECCD  FisYr                                          NAME  \\\n",
      "0  10018605         5   2004                     AMALGAMATED TRANSIT UNION   \n",
      "1  10018922        19   2005                     AMERICAN LEGION AUXILIARY   \n",
      "2  10018923        19   2004  AMERICAN LEGION POST 0019 THOMAS W COLE POST   \n",
      "3  10018927        19   2004     AMERICAN LEGION POST 0005 BOURQUE LANIGAN   \n",
      "4  10018930        19   2005                               AMERICAN LEGION   \n",
      "\n",
      "            CITY STATE         ZIP  TOTAL_ASSETS  REVENUE  NET_INCOME  \n",
      "0  HOLLIS CENTER    ME  04042-3236          5424    49022       -4261  \n",
      "1      BUCKSPORT    ME  04416-0887        165058   229770      -14061  \n",
      "2        SANFORD    ME  04073-0801        160115    26111       13150  \n",
      "3     WATERVILLE    ME  04903-0041        871974  1113659      -40619  \n",
      "4     WATERVILLE    ME  04903-0900        761999   826405       21044  \n"
     ]
    }
   ],
   "source": [
    "for file_name, idx in file_dict.items():\n",
    "    data_file =  data_path + '/' + file_name\n",
    "    \n",
    "    if '~' in file_name:\n",
    "        continue\n",
    "\n",
    "    try:\n",
    "        file_name_no_exnt = file_name.split('.')[0]\n",
    "        year = file_name_no_exnt.split('_')[2]\n",
    "        year = int(year)\n",
    "    except:\n",
    "        year = 'NA' \n",
    "    \n",
    "\n",
    "    try:\n",
    "        data[year] = pd.read_csv(data_file, sep=',', low_memory=False, quotechar='\"')\n",
    "\n",
    "        #convert column data into numeric type for sorting and processing\n",
    "        data[year]['SUBSECCD'] = data[year]['SUBSECCD'].convert_objects(convert_numeric = True)\n",
    "\n",
    "        #adding a common column for assets because of different columns in different year files\n",
    "        if 'ASS_EOY' in data[year]:\n",
    "            data[year]['TOTAL_ASSETS'] = data[year]['ASS_EOY'].convert_objects(convert_numeric = True)\n",
    "\n",
    "        elif 'p4e_asst' in data[year]:\n",
    "            data[year]['TOTAL_ASSETS'] = data[year]['p4e_asst'].convert_objects(convert_numeric = True)\n",
    "\n",
    "        else:\n",
    "            #print \"TOTAL_ASSETS not found for file : \" + str(file_name)\n",
    "            data[year]['TOTAL_ASSETS'] = 0\n",
    "\n",
    "        #adding a common column for revenue because of different columns in different year files\n",
    "        if 'TOTREV2' in data[year]:\n",
    "            data[year]['REVENUE'] = data[year]['TOTREV2'].convert_objects(convert_numeric = True)\n",
    "\n",
    "        elif 'p1totrev' in data[year]:\n",
    "            data[year]['REVENUE'] = data[year]['p1totrev'].convert_objects(convert_numeric = True)\n",
    "\n",
    "        elif 'p1psrev' in data[year]:\n",
    "            data[year]['REVENUE'] = data[year]['p1psrev'].convert_objects(convert_numeric = True)\n",
    "\n",
    "        else:\n",
    "            #print \"REVENUE not found for file : \" + str(file_name)\n",
    "            data[year]['REVENUE'] = 0\n",
    "\n",
    "        #adding a common column for revenue because of different columns in different year files\n",
    "        if 'grossinc' in data[year]:\n",
    "            data[year]['NET_INCOME'] = data[year]['grossinc'].convert_objects(convert_numeric = True)\n",
    "\n",
    "        elif 'NETINC' in data[year]:\n",
    "            data[year]['NET_INCOME'] = data[year]['NETINC'].convert_objects(convert_numeric = True)\n",
    "\n",
    "        else:\n",
    "            #print \"NET_INCOME not found for file : \" + str(file_name)\n",
    "            data[year]['NET_INCOME'] = 0  \n",
    "\n",
    "        #adding a common column for 5 digit zip code because of different columns in different year files for zip\n",
    "        if 'ZIP5' in data[year]:\n",
    "            data[year]['ZIP_CODE'] = data[year]['ZIP5'].convert_objects(convert_numeric = True)\n",
    "\n",
    "        elif 'zip5' in data[year]:\n",
    "            data[year]['ZIP_CODE'] = data[year]['zip5'].convert_objects(convert_numeric = True)\n",
    "\n",
    "        else:\n",
    "            data[year]['ZIP_CODE'] = ''\n",
    "\n",
    "        data_all = data_all.append(data[year][columns], ignore_index=True)\n",
    "        print (\"loaded file : \" + str(file_name))\n",
    "        \n",
    "    except:\n",
    "        traceback.print_exc(file=sys.stdout)\n",
    "        print (\"error : reading files\")\n",
    "        exit()\n"
   ]
  },
  {
   "cell_type": "code",
   "execution_count": 3,
   "metadata": {
    "collapsed": false
   },
   "outputs": [
    {
     "name": "stdout",
     "output_type": "stream",
     "text": [
      "               EIN  SUBSECCD  FisYr  \\\n",
      "737277   841671830         1   2007   \n",
      "2367786   50620278         1   2007   \n",
      "2659140   56013592         1   2009   \n",
      "2659026   50204200         1   2009   \n",
      "869095   470659673         1   1997   \n",
      "\n",
      "                                                     NAME        CITY STATE  \\\n",
      "737277               GREATER WAYNE CNTY ECONOMIC DEV CORP         NaN    MI   \n",
      "2367786           GUJARATI SOCIETY OF CENTRAL FLORIDA INC     ORLANDO    FL   \n",
      "2659140            COVENTRY TEACHERS FEDERAL CREDIT UNION    COVENTRY    RI   \n",
      "2659026  POSTAL GOVERNMENT EMPLOYEES FEDERAL CREDIT UNION  PROVIDENCE    RI   \n",
      "869095                                  DIX FIRE DISTRICT         DIX    NE   \n",
      "\n",
      "                ZIP  TOTAL_ASSETS  REVENUE  NET_INCOME  \n",
      "737277        48226        633153   946632      569450  \n",
      "2367786  32825-8408         35866    67601           3  \n",
      "2659140  02816-8302       2435944    99969        8003  \n",
      "2659026  02940-9606      37085275  2539987       97803  \n",
      "869095   69133-8933         70021        0        3034  \n"
     ]
    }
   ],
   "source": [
    "#table 1 to get data of orgs for all years whose SUBSECCD_val = [1,12,14,15,16,50,60,80]\n",
    "SUBSECCD_val = [1,12,14,15,16,50,60,80]\n",
    "data_year_wise = data\n",
    "data_subseccd = data_all.loc[data_all['SUBSECCD'].isin(SUBSECCD_val)]"
   ]
  },
  {
   "cell_type": "code",
   "execution_count": 4,
   "metadata": {
    "collapsed": false
   },
   "outputs": [
    {
     "ename": "SyntaxError",
     "evalue": "invalid syntax (<ipython-input-4-ce05cc5c9d33>, line 26)",
     "output_type": "error",
     "traceback": [
      "\u001b[1;36m  File \u001b[1;32m\"<ipython-input-4-ce05cc5c9d33>\"\u001b[1;36m, line \u001b[1;32m26\u001b[0m\n\u001b[1;33m    print data_table_1.to_string(index=False)\u001b[0m\n\u001b[1;37m                     ^\u001b[0m\n\u001b[1;31mSyntaxError\u001b[0m\u001b[1;31m:\u001b[0m invalid syntax\n"
     ]
    }
   ],
   "source": [
    "table_1_columns = ['SUBSECCD', 'TOTAL_ENTRIES', 'TOTAL_ASSETS', 'REVENUE', 'REVENUE_AVERAGE', 'REVENUE_MEDIAN', 'NET_INCOME', 'NET_INCOME_AVERAGE', 'NET_INCOME_MEDIAN' ]\n",
    "data_table_1 = pd.DataFrame(columns=table_1_columns)\n",
    "for val in SUBSECCD_val:\n",
    "    data_temp = data_subseccd.loc[data_subseccd['SUBSECCD'] == val]\n",
    "    total_entries = len(data_temp)\n",
    "    #Total Assets\n",
    "    total_asst = data_temp['TOTAL_ASSETS'].sum()\n",
    "    #Revenue\n",
    "    total_rev = data_temp['REVENUE'].sum()\n",
    "    try:\n",
    "        total_rev_mean = int(data_temp['REVENUE'].mean())\n",
    "    except:\n",
    "        total_rev_mean = 0\n",
    "    total_rev_median = data_temp['REVENUE'].median()\n",
    "    #Net Income\n",
    "    total_inc = data_temp['NET_INCOME'].sum()\n",
    "    try:\n",
    "        total_inc_mean = int(data_temp['NET_INCOME'].mean())\n",
    "    except:\n",
    "        total_inc_mean = 0\n",
    "    total_inc_median = data_temp['NET_INCOME'].median()        \n",
    "\n",
    "    data_table_1.loc[SUBSECCD_val.index(val)] = [val, total_entries, total_asst, total_rev, total_rev_mean, total_rev_median, total_inc, total_inc_mean, total_inc_median]\n",
    "\n",
    "print (\"table_1\")   \n",
    "print (data_table_1.to_string(index=False))\n",
    "data_table_1.to_csv('../results/core_other_table_1_all_years.csv', mode = 'w', index=False)    "
   ]
  },
  {
   "cell_type": "code",
   "execution_count": 22,
   "metadata": {
    "collapsed": false
   },
   "outputs": [
    {
     "name": "stdout",
     "output_type": "stream",
     "text": [
      "               EIN  SUBSECCD  FisYr                           NAME  \\\n",
      "380840   410415960         1   1995   FIRSTEL FEDERAL CREDIT UNION   \n",
      "2870447  880106922        12   1995               MT WHEELER POWER   \n",
      "2870968  910145523        12   1995  BIG BEND ELECTRIC COOPERATIVE   \n",
      "2870766  880331504        12   1995  SPRUCE CULINARY WATER COMPANY   \n",
      "2870693  880292278        12   1995    GLENBROOK WATER COOPERATIVE   \n",
      "\n",
      "                    CITY STATE         ZIP     ASSETS   REVENUE  \n",
      "380840   BROOKLYN CENTER    MN  55430-2123  133122168  11006498  \n",
      "2870447              ELY    NV  89301-1110   34155226  12659422  \n",
      "2870968        RITZVILLE    WA  99169-0348   23555507  14647433  \n",
      "2870766        LOGANDALE    NV  89021-0177      79759         0  \n",
      "2870693        GLENBROOK    NV  89413-0447    1571276         0  \n"
     ]
    }
   ],
   "source": [
    "#table 2 for spicific year or years\n",
    "year = [2013]\n",
    "data_year = pd.DataFrame()\n",
    "for yr in year:\n",
    "    data_year = data_year.append(data_year_wise[yr], ignore_index=True)\n",
    "\n",
    "data_year = data_year.loc[data_year['SUBSECCD'].isin(SUBSECCD_val)]"
   ]
  },
  {
   "cell_type": "code",
   "execution_count": 23,
   "metadata": {
    "collapsed": false
   },
   "outputs": [
    {
     "name": "stdout",
     "output_type": "stream",
     "text": [
      "table_2\n",
      " SUBSECCD                                     FISYEAR  TOTAL_ENTRIES        ASSETS  ASSETS_AVERAGE  ASSETS_MEDIAN       REVENUE  REVENUE_AVERAGE  REVENUE_MEDIAN\n",
      "        1  [1995, 2000, 2002, 2005, 2010, 2012, 2013]            117  1.798447e+09        15371339         165750  1.201346e+08          1026791         90609.0\n",
      "       12  [1995, 2000, 2002, 2005, 2010, 2012, 2013]          26471  6.614977e+11        24989525        1320249  2.877077e+11         10868789        286117.0\n",
      "       14  [1995, 2000, 2002, 2005, 2010, 2012, 2013]          14051  2.374833e+12       169015195       17511855  1.330120e+11          9467046        976967.5\n",
      "       15  [1995, 2000, 2002, 2005, 2010, 2012, 2013]           4933  2.034651e+10         4124570         651653  3.484695e+09           706404        168203.0\n",
      "       16  [1995, 2000, 2002, 2005, 2010, 2012, 2013]             89  3.035230e+09        34103711       10905086  1.852457e+08          2081412       1468180.0\n",
      "       50  [1995, 2000, 2002, 2005, 2010, 2012, 2013]             91  4.593183e+09        50474535        4972013  4.498205e+09         49430824       3128826.0\n",
      "       60  [1995, 2000, 2002, 2005, 2010, 2012, 2013]              0  0.000000e+00               0            NaN  0.000000e+00                0             NaN\n",
      "       80  [1995, 2000, 2002, 2005, 2010, 2012, 2013]             12  5.605450e+05           46712          14876  5.890400e+05            49086         39028.0\n"
     ]
    }
   ],
   "source": [
    "table_2_columns = ['SUBSECCD', 'YEAR', 'TOTAL_ENTRIES', 'TOTAL_ASSETS', 'REVENUE', 'REVENUE_AVERAGE', 'REVENUE_MEDIAN', 'NET_INCOME', 'NET_INCOME_AVERAGE', 'NET_INCOME_MEDIAN' ]\n",
    "data_table_2 = pd.DataFrame(columns=table_2_columns)\n",
    "for val in SUBSECCD_val:\n",
    "    data_temp = data_year.loc[data_year['SUBSECCD'] == val]\n",
    "    total_entries = len(data_temp)\n",
    "    #Total Assets\n",
    "    total_asst = data_temp['TOTAL_ASSETS'].sum()\n",
    "    #Revenue\n",
    "    total_rev = data_temp['REVENUE'].sum()\n",
    "    try:\n",
    "        total_rev_mean = int(data_temp['REVENUE'].mean())\n",
    "    except:\n",
    "        total_rev_mean = 0\n",
    "    total_rev_median = data_temp['REVENUE'].median()\n",
    "    #Net Income\n",
    "    total_inc = data_temp['NET_INCOME'].sum()\n",
    "    try:\n",
    "        total_inc_mean = int(data_temp['NET_INCOME'].mean())\n",
    "    except:\n",
    "        total_inc_mean = 0\n",
    "    total_inc_median = data_temp['NET_INCOME'].median()        \n",
    "\n",
    "    data_table_2.loc[SUBSECCD_val.index(val)] = [val, year, total_entries, total_asst, total_rev, total_rev_mean, total_rev_median, total_inc, total_inc_mean, total_inc_median]\n",
    "\n",
    "print (\"table_2\")   \n",
    "print (data_table_2.to_string(index=False))\n",
    "data_table_2.to_csv('../results/core_other_table_2_' + str(year) + '_.csv', mode = 'w', index=False)                "
   ]
  },
  {
   "cell_type": "code",
   "execution_count": 24,
   "metadata": {
    "collapsed": false
   },
   "outputs": [
    {
     "name": "stdout",
     "output_type": "stream",
     "text": [
      "               EIN  SUBSECCD  FisYr  \\\n",
      "1979494  237443056         1   2007   \n",
      "141477   946102010        12   2005   \n",
      "141465   946101671        12   2005   \n",
      "141459   946101177        12   2006   \n",
      "141455   946100221        12   2005   \n",
      "\n",
      "                                                NAME        CITY STATE  \\\n",
      "1979494  CITY OF MANTECA RECREATIONAL FACILITIES INC         NaN    CA   \n",
      "141477                  BRANGER MUTUAL WATER COMPANY  SANTA ROSA    CA   \n",
      "141465                    DELTA MUTUAL WATER COMPANY      OAKLEY    CA   \n",
      "141459            PARADISE LAKE MUTUAL WATER COMPANY   PRUNEDALE    CA   \n",
      "141455             KINGS MOUNTAIN PARK WATER COMPANY    WOODSIDE    CA   \n",
      "\n",
      "                ZIP  ASSETS  REVENUE  \n",
      "1979494       95337   28326    67645  \n",
      "141477   95405-0354  401815    54744  \n",
      "141465   94561-5027  126671    37451  \n",
      "141459   93907-8719       0    52611  \n",
      "141455   94062-4586   14473    25792  \n"
     ]
    }
   ],
   "source": [
    "#table 3 for specific state or states\n",
    "state = ['CA']\n",
    "data_state = data_all.loc[data_all['STATE'].isin(state)]\n",
    "data_state = data_state.loc[data_state['SUBSECCD'].isin(SUBSECCD_val)]"
   ]
  },
  {
   "cell_type": "code",
   "execution_count": 25,
   "metadata": {
    "collapsed": false
   },
   "outputs": [
    {
     "name": "stdout",
     "output_type": "stream",
     "text": [
      "table_3\n",
      " SUBSECCD             STATE  TOTAL_ENTRIES        ASSETS  ASSETS_AVERAGE  ASSETS_MEDIAN      REVENUE  REVENUE_AVERAGE  REVENUE_MEDIAN\n",
      "        1  [MA, NY, CA, OR]             23  9.398873e+06          408646        28326.0      5408396           235147           57824\n",
      "       12  [MA, NY, CA, OR]           9510  2.898248e+10         3047579       262535.5  10496984668          1103783           84558\n",
      "       14  [MA, NY, CA, OR]           3636  1.531210e+12       421124729     46892662.0  92120591555         25335696         2707902\n",
      "       15  [MA, NY, CA, OR]           1505  1.575060e+10        10465511       414621.0   2790745912          1854316          157353\n",
      "       16  [MA, NY, CA, OR]             27  6.480350e+08        24001296     31114667.0     31390999          1162629         1479099\n",
      "       50  [MA, NY, CA, OR]             36  5.204746e+07         1445762       447654.0     34805706           966825           74080\n",
      "       60  [MA, NY, CA, OR]              0  0.000000e+00               0            NaN            0                0             NaN\n",
      "       80  [MA, NY, CA, OR]              3  2.126679e+07         7088929        27744.0       885693           295231           84322\n"
     ]
    }
   ],
   "source": [
    "table_3_columns = ['SUBSECCD', 'STATE', 'TOTAL_ENTRIES', 'ASSETS', 'REVENUE', 'REVENUE_AVERAGE', 'REVENUE_MEDIAN', 'NET_INCOME', 'NET_INCOME_AVERAGE', 'NET_INCOME_MEDIAN' ]\n",
    "data_table_3 = pd.DataFrame(columns=table_3_columns)\n",
    "for val in SUBSECCD_val:\n",
    "    data_temp = data_state.loc[data_state['SUBSECCD'] == val]\n",
    "    total_entries = len(data_temp)\n",
    "    #Total Assets\n",
    "    total_asst = data_temp['TOTAL_ASSETS'].sum()\n",
    "    #Revenue\n",
    "    total_rev = data_temp['REVENUE'].sum()\n",
    "    try:\n",
    "        total_rev_mean = int(data_temp['REVENUE'].mean())\n",
    "    except:\n",
    "        total_rev_mean = 0\n",
    "    total_rev_median = data_temp['REVENUE'].median()\n",
    "    #Net Income\n",
    "    total_inc = data_temp['NET_INCOME'].sum()\n",
    "    try:\n",
    "        total_inc_mean = int(data_temp['NET_INCOME'].mean())\n",
    "    except:\n",
    "        total_inc_mean = 0\n",
    "    total_inc_median = data_temp['NET_INCOME'].median()        \n",
    "\n",
    "    data_table_3.loc[SUBSECCD_val.index(val)] = [val, state, total_entries, total_asst, total_rev, total_rev_mean, total_rev_median, total_inc, total_inc_mean, total_inc_median]\n",
    "\n",
    "print (\"table_3\")      \n",
    "print (data_table_3.to_string(index=False))\n",
    "data_table_3.to_csv('../results/core_other_table_3_' + str(state) + '_.csv', mode = 'w', index=False)        "
   ]
  },
  {
   "cell_type": "code",
   "execution_count": null,
   "metadata": {
    "collapsed": true
   },
   "outputs": [],
   "source": [
    "#map plotting\n",
    "SUBSECCD_val = [1,12,14,15,16,50,60,80]\n",
    "\n",
    "subseccd = {}\n",
    "for val in SUBSECCD_val:\n",
    "    subseccd[val] = data_all.loc[data_all['SUBSECCD'].isin([val])]\n",
    "\n",
    "\n",
    "for val in SUBSECCD_val:\n",
    "    print list(subseccd[val]['EIN'].values)\n",
    "    print list(subseccd[val]['ZIP_CODE'].values)"
   ]
  },
  {
   "cell_type": "code",
   "execution_count": null,
   "metadata": {
    "collapsed": true
   },
   "outputs": [],
   "source": []
  }
 ],
 "metadata": {
  "kernelspec": {
   "display_name": "Python 3",
   "language": "python",
   "name": "python3"
  },
  "language_info": {
   "codemirror_mode": {
    "name": "ipython",
    "version": 3
   },
   "file_extension": ".py",
   "mimetype": "text/x-python",
   "name": "python",
   "nbconvert_exporter": "python",
   "pygments_lexer": "ipython3",
   "version": "3.4.3+"
  }
 },
 "nbformat": 4,
 "nbformat_minor": 0
}
