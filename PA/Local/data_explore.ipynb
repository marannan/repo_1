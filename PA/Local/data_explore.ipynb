{
 "cells": [
  {
   "cell_type": "code",
   "execution_count": 2,
   "metadata": {
    "collapsed": false
   },
   "outputs": [],
   "source": [
    "import pandas as pd\n",
    "pd.set_option('display.max_columns', None)\n",
    "\n",
    "import os"
   ]
  },
  {
   "cell_type": "code",
   "execution_count": 3,
   "metadata": {
    "collapsed": false
   },
   "outputs": [
    {
     "name": "stdout",
     "output_type": "stream",
     "text": [
      "Regulatory Assistance Project & http://www.raponline.org/      & W03    & -      & The Regulatory Assistance Project (RAP) is a global non-profit that focuses on the long-term economic and environmental sustainability of the power and natural gas sectors and related segments of the economy. We provide technical and policy assistance to government officials on a broad range of energy and environmental issues, seeking to deliver two major outcomes. 1) A reduction of the environmental impacts of energy production and use, leading to increased environmental quality.\\\\\\midrule\n",
      "Marine Environmental Research Institute, Inc. & http://www.meriresearch.org/   & U99    & -      & Protecting ocean life and human health through research, education and advocacy.          \\\\\\midrule\n",
      "Mount Desert Island Biological Laboratory & https://mdibl.org/             & U21    & 161    & To promote research and education in the biology of non-mammalian organisms, to foster understanding and preservation of the environment, and to advance human health\\\\\\midrule\n",
      "The Jackson Laboratory & https://www.jax.org/           & H92    & 161    & We discover the genetic basis for preventing, treating and curing human disease, and we enable research and education for the global biomedical community.\\\\\\midrule\n",
      "International Society For Autism Research & http://www.autism-insar.org/   & G84    & -      & The primary purpose of the international society for autism research (INSAR) is to foster autism research by new and established autism researchers by bringing autism scientists together to share findings and new ideas through an annual scientific meeting and various publications\\\\\\midrule\n",
      "Onpoint Health Data  & http://www.onpointhealthdata.org/ & E60    & 123    & The mission of onpoint Health Data is to promote informed decision making by designing, managing, and analyzing timely, high quality, integrated health care databases\\\\\\midrule\n",
      "Environment Northeast & nan                            & C35    & -      & Environment Northeast addresses large-scale environmental challenges that threaten regional ecosystems, human health, or the management of significant natural resources we use policy analysis, collaborative problem solving, and advocacy to advance the environmental and economic sustain ability of the northeastern United States and eastern Canada\\\\\\midrule\n",
      "University Of New England & http://www.une.edu/            & B43    & -      & The university's mission is to provide students with a highly integrated learning experience that promotes excellence thro ugh interdisciplinary collaboration and innovation in education, research, and service\\\\\\midrule\n",
      "Florida Breast Cancer Coalition Research Foundation, Inc & http://www.floridabreastcancer.org/ & -      & -      & To end Breast Cancer through advocacy, education, and research.                           \\\\\\midrule\n",
      "Eastern Nc Regional Science Center & http://go-science.org/         & -      & -      & To create a Regional Science Center to promote economic and cultural development by extending science literacy, scientific research, and science-based industrial applications, and science-based tourism for every science and technology sector in Eastern NC.\\\\\\midrule\n",
      "Orthocarolina Research Institute Inc Fmrly O L Miller Research Institute & http://www.orthocarolinaresearch.org/ & -      & -      & The institute's mission and priorities are centrally focused on (1) improved patient care,(2) high quality research to develop newand innovative orthopaedic devices and technologies, and (3) collaborative and multidiscipline forums to further enhance state-of-the-art medical healthcare the institute is currently participating in 30 on-going fda regulated clinicaltrials and approximately 70 scientific outcomes studies all studies support the public in providing state-of-the-art surgical\\\\\\midrule\n"
     ]
    }
   ],
   "source": [
    "s = pd.read_csv('sample_science_data.txt', sep='\\t')\n",
    "\n",
    "for idx, r in s.iterrows():\n",
    "    print(\"{0:20s} & {1:30s} & {2:6s} & {3:6s} & {4:90s}\\\\\\\\\\\\midrule\".format(str(r.ORG_NAME).title(), \n",
    "                                                         str(r.WEBSITE), \n",
    "                                                         str(r.NTEECC).capitalize().replace('Nan','-'), \n",
    "                                                         str(r.IRS).capitalize().split('.')[0].replace('Nan','-'), \n",
    "                                                         str(r.PURPOSE)))"
   ]
  },
  {
   "cell_type": "code",
   "execution_count": 13,
   "metadata": {
    "collapsed": false
   },
   "outputs": [],
   "source": [
    "form = '990' # or just 990\n",
    "\n",
    "data_path = {'990': 'guidestar_990', '990PF': 'guidestar_990PF'}\n",
    "prefix = {'990': 'f990_', '990PF': 'PF990_'}\n",
    "\n",
    "def get_data(form):\n",
    "    data_files = os.listdir(data_path[form])\n",
    "\n",
    "    file_dict = dict(zip(data_files, range(len(data_files))))\n",
    "\n",
    "    d = {}\n",
    "    for file_name, idx in file_dict.items():\n",
    "        data_file =  data_path[form] + '/' + file_name\n",
    "        try:\n",
    "            d[idx] = pd.read_csv(data_file, sep='|', low_memory=False)\n",
    "        except:\n",
    "            pass\n",
    "    return d, file_dict\n",
    "\n",
    "g, f = get_data('990')\n",
    "\n"
   ]
  },
  {
   "cell_type": "code",
   "execution_count": 18,
   "metadata": {
    "collapsed": false
   },
   "outputs": [
    {
     "data": {
      "text/plain": [
       "2000"
      ]
     },
     "execution_count": 18,
     "metadata": {},
     "output_type": "execute_result"
    }
   ],
   "source": [
    "len(g[0].C_EIN.unique())"
   ]
  },
  {
   "cell_type": "markdown",
   "metadata": {},
   "source": [
    "### Funds by 990PF NPOs to other organziations by text in name, from Part XV Grants Paid"
   ]
  },
  {
   "cell_type": "code",
   "execution_count": 9,
   "metadata": {
    "collapsed": false
   },
   "outputs": [
    {
     "name": "stdout",
     "output_type": "stream",
     "text": [
      "       10820 &  423,778,380 \\\\\n",
      "        2762 &  145,921,365 \\\\\n",
      "        1416 &   64,032,612 \\\\\n",
      "        3113 &  134,649,632 \\\\\n",
      "      101376 & 3,887,416,570 \\\\\n"
     ]
    }
   ],
   "source": [
    "npo_pf, files = get_data('990PF')\n",
    "pf_grants_paid = npo_pf[21] # PF990_Part_XV_Grants_Paid\n",
    "d = pf_grantPart_XV_Grants_Paids_paid\n",
    "\n",
    "uni = d[d.ORGNAME.str.contains('univ|colleg', case=False) == True]\n",
    "tmp = d[d.ORGNAME.str.contains('univ|colleg', case=False) == False]\n",
    "\n",
    "hospital = tmp[tmp.ORGNAME.str.contains('hospital|clinic', case=False) == True]\n",
    "tmp = tmp[tmp.ORGNAME.str.contains('hospital|clinic', case=False) == False]\n",
    "\n",
    "science = tmp[tmp.ORGNAME.str.contains('science|research|technology|innovation', case=False) == True]\n",
    "tmp = tmp[tmp.ORGNAME.str.contains('science|research|technology|innovation', case=False) == False]\n",
    "\n",
    "education = tmp[tmp.ORGNAME.str.contains('institute|education', case=False) == True]\n",
    "\n",
    "other = tmp[tmp.ORGNAME.str.contains('institute|education', case=False) == False]\n",
    "\n",
    "org_name = [uni, hospital, science, education, other]\n",
    "for org in org_name:\n",
    "    print('{0:12d} & {1:12,} \\\\\\\\'.format(round(org.AMOUNT.count()), \n",
    "                                            round(org.AMOUNT.sum())))\n",
    "    \n"
   ]
  },
  {
   "cell_type": "markdown",
   "metadata": {},
   "source": [
    "### Funds by 990 NPOs to other organziations by legal type, from Schedule I"
   ]
  },
  {
   "cell_type": "code",
   "execution_count": 6,
   "metadata": {
    "collapsed": false
   },
   "outputs": [
    {
     "name": "stdout",
     "output_type": "stream",
     "text": [
      "         375 &   27,629,659 &           65 &    5,502,552\\\\\n",
      "        3864 &  220,059,694 &          538 &    1,353,430\\\\\n",
      "         153 &   14,452,957 &           15 &       79,792\\\\\n",
      "          23 &    1,180,046 &            3 &            0\\\\\n"
     ]
    }
   ],
   "source": [
    "npo, files = get_data('990')\n",
    "\n",
    "npo_grants_paid = npo[51] # f990_Sched_I_Part_II_Gov_Grant\n",
    "d = npo_grants_paid\n",
    "\n",
    "#Schedule I\n",
    "\n",
    "uni = d[d.ORG_NAME.str.contains('univ|colleg', case=False)==True]\n",
    "tmp = d[d.ORG_NAME.str.contains('univ|colleg', case=False)==False]\n",
    "\n",
    "npo = tmp[tmp.SECTION.str.contains('501|3') == True]\n",
    "tmp = d[d.SECTION.str.contains('501|3') == False]\n",
    "\n",
    "gov = tmp[tmp.SECTION.str.contains('gov|mun|town|county|com|public|state', case=False) == True]\n",
    "oth = tmp[tmp.SECTION.str.contains('gov|mun|town|county|comm|public|state', case=False) == False]\n",
    "\n",
    "\n",
    "org_lfo = [uni, npo, gov, oth]\n",
    "for org in org_lfo:\n",
    "    org.ndim\n",
    "    print('{0:12d} & {1:12,} & {2:12d} & {3:12,}\\\\\\\\'.format(round(org.ORG_CASH.count()), \n",
    "                                            round(org.ORG_CASH.sum()), \n",
    "                                            round(org.ORG_NON_CASH.count()),\n",
    "                                            round(org.ORG_NON_CASH.sum())))\n",
    "    "
   ]
  },
  {
   "cell_type": "code",
   "execution_count": 8,
   "metadata": {
    "collapsed": false
   },
   "outputs": [
    {
     "ename": "TypeError",
     "evalue": "'tuple' object is not callable",
     "output_type": "error",
     "traceback": [
      "\u001b[0;31m---------------------------------------------------------------------------\u001b[0m",
      "\u001b[0;31mTypeError\u001b[0m                                 Traceback (most recent call last)",
      "\u001b[0;32m<ipython-input-8-3c3bec6e4ec7>\u001b[0m in \u001b[0;36m<module>\u001b[0;34m()\u001b[0m\n\u001b[0;32m----> 1\u001b[0;31m \u001b[0mnpo_pf\u001b[0m\u001b[0;34m[\u001b[0m\u001b[0;36m0\u001b[0m\u001b[0;34m]\u001b[0m\u001b[0;34m.\u001b[0m\u001b[0mshape\u001b[0m\u001b[0;34m(\u001b[0m\u001b[0;34m)\u001b[0m\u001b[0;34m,\u001b[0m \u001b[0mnpo\u001b[0m\u001b[0;34m[\u001b[0m\u001b[0;36m0\u001b[0m\u001b[0;34m]\u001b[0m\u001b[0;34m.\u001b[0m\u001b[0mshape\u001b[0m\u001b[0;34m(\u001b[0m\u001b[0;34m)\u001b[0m\u001b[0;34m\u001b[0m\u001b[0m\n\u001b[0m",
      "\u001b[0;31mTypeError\u001b[0m: 'tuple' object is not callable"
     ]
    }
   ],
   "source": [
    "npo_pf.shape(), npo"
   ]
  },
  {
   "cell_type": "code",
   "execution_count": null,
   "metadata": {
    "collapsed": true
   },
   "outputs": [],
   "source": []
  }
 ],
 "metadata": {
  "kernelspec": {
   "display_name": "Python 3",
   "language": "python",
   "name": "python3"
  },
  "language_info": {
   "codemirror_mode": {
    "name": "ipython",
    "version": 3
   },
   "file_extension": ".py",
   "mimetype": "text/x-python",
   "name": "python",
   "nbconvert_exporter": "python",
   "pygments_lexer": "ipython3",
   "version": "3.5.1"
  }
 },
 "nbformat": 4,
 "nbformat_minor": 0
}
